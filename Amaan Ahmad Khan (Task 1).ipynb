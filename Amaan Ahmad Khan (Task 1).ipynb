{
 "cells": [
  {
   "cell_type": "markdown",
   "id": "proprietary-greensboro",
   "metadata": {},
   "source": [
    "# Amaan Ahmad Khan Task1 #GRIPJUNE"
   ]
  },
  {
   "cell_type": "markdown",
   "id": "operational-relevance",
   "metadata": {},
   "source": [
    "Problem Statement- 1)Predict the percentage of an student based on the no. of study hours. 2)What will be predicted score if a student studies for 9.25 hrs/ day?"
   ]
  },
  {
   "cell_type": "code",
   "execution_count": 1,
   "id": "linear-opposition",
   "metadata": {},
   "outputs": [],
   "source": [
    "import pandas as pd\n",
    "import matplotlib.pyplot as plt\n",
    "import numpy as np"
   ]
  },
  {
   "cell_type": "code",
   "execution_count": 2,
   "id": "sophisticated-avatar",
   "metadata": {},
   "outputs": [],
   "source": [
    "df=pd.read_csv(\"https://raw.githubusercontent.com/AdiPersonalWorks/Random/master/student_scores%20-%20student_scores.csv\")"
   ]
  },
  {
   "cell_type": "code",
   "execution_count": 3,
   "id": "south-company",
   "metadata": {},
   "outputs": [
    {
     "data": {
      "text/html": [
       "<div>\n",
       "<style scoped>\n",
       "    .dataframe tbody tr th:only-of-type {\n",
       "        vertical-align: middle;\n",
       "    }\n",
       "\n",
       "    .dataframe tbody tr th {\n",
       "        vertical-align: top;\n",
       "    }\n",
       "\n",
       "    .dataframe thead th {\n",
       "        text-align: right;\n",
       "    }\n",
       "</style>\n",
       "<table border=\"1\" class=\"dataframe\">\n",
       "  <thead>\n",
       "    <tr style=\"text-align: right;\">\n",
       "      <th></th>\n",
       "      <th>Hours</th>\n",
       "      <th>Scores</th>\n",
       "    </tr>\n",
       "  </thead>\n",
       "  <tbody>\n",
       "    <tr>\n",
       "      <th>0</th>\n",
       "      <td>2.5</td>\n",
       "      <td>21</td>\n",
       "    </tr>\n",
       "    <tr>\n",
       "      <th>1</th>\n",
       "      <td>5.1</td>\n",
       "      <td>47</td>\n",
       "    </tr>\n",
       "    <tr>\n",
       "      <th>2</th>\n",
       "      <td>3.2</td>\n",
       "      <td>27</td>\n",
       "    </tr>\n",
       "    <tr>\n",
       "      <th>3</th>\n",
       "      <td>8.5</td>\n",
       "      <td>75</td>\n",
       "    </tr>\n",
       "    <tr>\n",
       "      <th>4</th>\n",
       "      <td>3.5</td>\n",
       "      <td>30</td>\n",
       "    </tr>\n",
       "  </tbody>\n",
       "</table>\n",
       "</div>"
      ],
      "text/plain": [
       "   Hours  Scores\n",
       "0    2.5      21\n",
       "1    5.1      47\n",
       "2    3.2      27\n",
       "3    8.5      75\n",
       "4    3.5      30"
      ]
     },
     "execution_count": 3,
     "metadata": {},
     "output_type": "execute_result"
    }
   ],
   "source": [
    "df.head()"
   ]
  },
  {
   "cell_type": "code",
   "execution_count": 4,
   "id": "loving-judgment",
   "metadata": {},
   "outputs": [
    {
     "data": {
      "text/plain": [
       "(25, 2)"
      ]
     },
     "execution_count": 4,
     "metadata": {},
     "output_type": "execute_result"
    }
   ],
   "source": [
    "df.shape"
   ]
  },
  {
   "cell_type": "code",
   "execution_count": 5,
   "id": "looking-motel",
   "metadata": {},
   "outputs": [
    {
     "data": {
      "image/png": "[encoded data removed]",
      "text/plain": [
       "<Figure size 432x288 with 1 Axes>"
      ]
     },
     "metadata": {
      "needs_background": "light"
     },
     "output_type": "display_data"
    }
   ],
   "source": [
    "# now draw the regression plot \n",
    "plt.scatter(df.Hours, df.Scores,  color='blue')\n",
    "plt.title(\"Hours x Scores\")\n",
    "plt.xlabel(\"Hours\")\n",
    "plt.ylabel(\"Scores\")\n",
    "plt.show()"
   ]
  },
  {
   "cell_type": "markdown",
   "id": "residential-penny",
   "metadata": {},
   "source": [
    "As we can see the graph is pretty much linear\n"
   ]
  },
  {
   "cell_type": "code",
   "execution_count": 6,
   "id": "honest-donor",
   "metadata": {},
   "outputs": [],
   "source": [
    "# Splitting the model by creating train test split using numpy rather than sklearn\n",
    "\n",
    "partition = np.random.rand(len(df)) < 0.8\n",
    "train = df[partition]\n",
    "test = df[~partition]"
   ]
  },
  {
   "cell_type": "code",
   "execution_count": 7,
   "id": "meaningful-gabriel",
   "metadata": {},
   "outputs": [
    {
     "name": "stdout",
     "output_type": "stream",
     "text": [
      "Theta0:  [[9.81900157]]\n",
      "Theta1:  [1.30567172]\n"
     ]
    }
   ],
   "source": [
    "# Training the model\n",
    "from sklearn import linear_model\n",
    "regr=linear_model.LinearRegression()\n",
    "train_x = np.asanyarray(train[['Hours']])\n",
    "train_y = np.asanyarray(train[['Scores']])\n",
    "regr.fit(train_x,train_y)\n",
    "\n",
    "# lets print the regression cofficients \n",
    "print ('Theta0: ', regr.coef_)\n",
    "print ('Theta1: ',regr.intercept_)\n"
   ]
  },
  {
   "cell_type": "code",
   "execution_count": 8,
   "id": "bottom-inspiration",
   "metadata": {},
   "outputs": [
    {
     "data": {
      "text/plain": [
       "Text(0, 0.5, 'Scores')"
      ]
     },
     "execution_count": 8,
     "metadata": {},
     "output_type": "execute_result"
    },
    {
     "data": {
      "image/png": "[encoded data removed]",
      "text/plain": [
       "<Figure size 432x288 with 1 Axes>"
      ]
     },
     "metadata": {
      "needs_background": "light"
     },
     "output_type": "display_data"
    }
   ],
   "source": [
    "# Lets plot the fit line by using the coefficients\n",
    "plt.scatter(train.Hours,train.Scores,color='blue')\n",
    "plt.plot(train_x,regr.coef_[0][0]*train_x+regr.intercept_[0],\"-r\")\n",
    "plt.xlabel('Hours')\n",
    "plt.ylabel('Scores')"
   ]
  },
  {
   "cell_type": "markdown",
   "id": "agricultural-egypt",
   "metadata": {},
   "source": [
    "# We have 3 method to train and test split for our data\n",
    "# 1) Train with the entire data and test on a sample of the same data\n",
    "# 2) Train Test Split(already done)\n",
    "# 3) K fold Cross Validation"
   ]
  },
  {
   "cell_type": "code",
   "execution_count": 9,
   "id": "fitted-capability",
   "metadata": {},
   "outputs": [],
   "source": [
    "#1)Train with the entire data and test on a sample of the same data\n",
    "partition2=np.random.rand(len(df))<0.2\n",
    "train2=df\n",
    "test2=df[partition2]"
   ]
  },
  {
   "cell_type": "code",
   "execution_count": 10,
   "id": "engaging-december",
   "metadata": {},
   "outputs": [
    {
     "name": "stdout",
     "output_type": "stream",
     "text": [
      "Train with the entire data and test on a sample of the same data\n",
      "Theta0:  [[9.77580339]]\n",
      "Theta1:  [2.48367341]\n"
     ]
    }
   ],
   "source": [
    "train_x_2 = np.asanyarray(train2[['Hours']])\n",
    "train_y_2 = np.asanyarray(train2[['Scores']])\n",
    "regr.fit(train_x_2,train_y_2)\n",
    "# printing the coefficients\n",
    "print(\"Train with the entire data and test on a sample of the same data\")\n",
    "print('Theta0: ',regr.coef_)\n",
    "print('Theta1: ',regr.intercept_)"
   ]
  },
  {
   "cell_type": "code",
   "execution_count": 11,
   "id": "sound-mercury",
   "metadata": {},
   "outputs": [
    {
     "name": "stdout",
     "output_type": "stream",
     "text": [
      "Training the model using Train Test Split\n",
      "Theta0:  [9.94167834]\n",
      "Theta1:  1.9322042531516601\n"
     ]
    },
    {
     "data": {
      "text/plain": [
       "0.9367661043365056"
      ]
     },
     "execution_count": 11,
     "metadata": {},
     "output_type": "execute_result"
    }
   ],
   "source": [
    "# 2) Train test split using sklearn\n",
    "from sklearn.model_selection import train_test_split\n",
    "X=df.drop('Scores',axis=1)\n",
    "y=df.Scores\n",
    "X_train,X_test,y_train,y_test=train_test_split(X,y,random_state=0)\n",
    "regr.fit(X_train,y_train)\n",
    "print(\"Training the model using Train Test Split\")\n",
    "print('Theta0: ',regr.coef_)\n",
    "print('Theta1: ',regr.intercept_)\n",
    "regr.score(X_test,y_test)"
   ]
  },
  {
   "cell_type": "code",
   "execution_count": 12,
   "id": "statutory-trader",
   "metadata": {},
   "outputs": [],
   "source": [
    "# K fold cross validation\n",
    "from sklearn.model_selection import KFold"
   ]
  },
  {
   "cell_type": "code",
   "execution_count": 13,
   "id": "legal-gazette",
   "metadata": {},
   "outputs": [],
   "source": [
    "def get_score(model,X_train,X_test,y_train,y_test):\n",
    "    model.fit(X_train,y_train)\n",
    "    return model.score(X_test,y_test)"
   ]
  },
  {
   "cell_type": "code",
   "execution_count": 14,
   "id": "moved-rocket",
   "metadata": {},
   "outputs": [
    {
     "data": {
      "text/plain": [
       "0.9367661043365056"
      ]
     },
     "execution_count": 14,
     "metadata": {},
     "output_type": "execute_result"
    }
   ],
   "source": [
    "get_score(regr,X_train,X_test,y_train,y_test)"
   ]
  },
  {
   "cell_type": "code",
   "execution_count": 15,
   "id": "cardiac-institution",
   "metadata": {},
   "outputs": [
    {
     "data": {
      "text/plain": [
       "KFold(n_splits=3, random_state=None, shuffle=False)"
      ]
     },
     "execution_count": 15,
     "metadata": {},
     "output_type": "execute_result"
    }
   ],
   "source": [
    "kf=KFold(n_splits=3)\n",
    "kf"
   ]
  },
  {
   "cell_type": "code",
   "execution_count": 16,
   "id": "rubber-blair",
   "metadata": {},
   "outputs": [],
   "source": [
    "# Here i am doing K fold cross validation for Linear regression by using our get_score function\n",
    "values=[] \n",
    "for train_index,test_index in kf.split(X):\n",
    "    X_train,X_test,y_train,y_test=X.iloc[train_index],X.iloc[test_index],y.iloc[train_index],y.iloc[test_index]\n",
    "    values.append(get_score(regr,X_train,X_test,y_train,y_test))"
   ]
  },
  {
   "cell_type": "code",
   "execution_count": 17,
   "id": "hungarian-charity",
   "metadata": {},
   "outputs": [
    {
     "data": {
      "text/plain": [
       "[0.9005964808797998, 0.9529032607905507, 0.9342276909497311]"
      ]
     },
     "execution_count": 17,
     "metadata": {},
     "output_type": "execute_result"
    }
   ],
   "source": [
    "# Here you can see we will be returning 10 values by taking the average we will get the performance of our model\n",
    "values"
   ]
  },
  {
   "cell_type": "code",
   "execution_count": 18,
   "id": "sitting-contemporary",
   "metadata": {},
   "outputs": [
    {
     "data": {
      "text/plain": [
       "0.9292424775400271"
      ]
     },
     "execution_count": 18,
     "metadata": {},
     "output_type": "execute_result"
    }
   ],
   "source": [
    "avg_of_values=sum(values)/len(values)\n",
    "avg_of_values"
   ]
  },
  {
   "cell_type": "markdown",
   "id": "joined-nerve",
   "metadata": {},
   "source": [
    "# Here you can see the model is a good fit"
   ]
  },
  {
   "cell_type": "markdown",
   "id": "musical-microphone",
   "metadata": {},
   "source": [
    "Lets start predicting"
   ]
  },
  {
   "cell_type": "code",
   "execution_count": 27,
   "id": "specified-layer",
   "metadata": {},
   "outputs": [],
   "source": [
    "X=df.drop('Scores',axis=1)\n",
    "y=df.Scores\n",
    "X_train,X_test,y_train,y_test=train_test_split(X,y,test_size=0.2,random_state=0)"
   ]
  },
  {
   "cell_type": "code",
   "execution_count": 28,
   "id": "dental-contrary",
   "metadata": {},
   "outputs": [],
   "source": [
    "y_hat=regr.predict(X_test)"
   ]
  },
  {
   "cell_type": "code",
   "execution_count": 29,
   "id": "static-viewer",
   "metadata": {},
   "outputs": [
    {
     "data": {
      "text/plain": [
       "array([16.68364614, 33.05423906, 73.49923333, 26.31340668, 59.05459252])"
      ]
     },
     "execution_count": 29,
     "metadata": {},
     "output_type": "execute_result"
    }
   ],
   "source": [
    "y_hat"
   ]
  },
  {
   "cell_type": "code",
   "execution_count": 30,
   "id": "mobile-commons",
   "metadata": {},
   "outputs": [
    {
     "data": {
      "text/plain": [
       "5     20\n",
       "2     27\n",
       "19    69\n",
       "16    30\n",
       "11    62\n",
       "Name: Scores, dtype: int64"
      ]
     },
     "execution_count": 30,
     "metadata": {},
     "output_type": "execute_result"
    }
   ],
   "source": [
    "y_test"
   ]
  },
  {
   "cell_type": "markdown",
   "id": "lonely-aquatic",
   "metadata": {},
   "source": [
    "# Evaluation by R score"
   ]
  },
  {
   "cell_type": "code",
   "execution_count": 23,
   "id": "proof-spine",
   "metadata": {},
   "outputs": [
    {
     "data": {
      "text/plain": [
       "0.9544914649518782"
      ]
     },
     "execution_count": 23,
     "metadata": {},
     "output_type": "execute_result"
    }
   ],
   "source": [
    "from sklearn import metrics\n",
    "r2_score=metrics.r2_score(y_test,y_hat)\n",
    "r2_score"
   ]
  },
  {
   "cell_type": "markdown",
   "id": "accepting-welding",
   "metadata": {},
   "source": [
    "# R score value: 0.9544914649518782"
   ]
  },
  {
   "cell_type": "markdown",
   "id": "moved-honduras",
   "metadata": {},
   "source": [
    "# As we can see the R score is close to 1 that means Our model performs Really good :)"
   ]
  },
  {
   "cell_type": "markdown",
   "id": "parallel-block",
   "metadata": {},
   "source": [
    "Testing our data according to the question 'What will be predicted score if a student studies for 9.25 hrs/ day?'"
   ]
  },
  {
   "cell_type": "code",
   "execution_count": 35,
   "id": "funky-somewhere",
   "metadata": {},
   "outputs": [
    {
     "name": "stdout",
     "output_type": "stream",
     "text": [
      "If a student study for 9.25 hours, he/she will likely to score: 91 marks.\n"
     ]
    }
   ],
   "source": [
    "hours = 9.25\n",
    "prediction = regr.predict([[hours]])\n",
    "print(f\"If a student study for {hours} hours, he/she will likely to score: {int(prediction)} marks.\")"
   ]
  },
  {
   "cell_type": "markdown",
   "id": "after-kernel",
   "metadata": {},
   "source": [
    "# With that, our Task1 is Successfully completed"
   ]
  },
  {
   "cell_type": "code",
   "execution_count": null,
   "id": "tough-quantum",
   "metadata": {},
   "outputs": [],
   "source": []
  }
 ],
 "metadata": {
  "kernelspec": {
   "display_name": "Python 3",
   "language": "python",
   "name": "python3"
  },
  "language_info": {
   "codemirror_mode": {
    "name": "ipython",
    "version": 3
   },
   "file_extension": ".py",
   "mimetype": "text/x-python",
   "name": "python",
   "nbconvert_exporter": "python",
   "pygments_lexer": "ipython3",
   "version": "3.6.9"
  }
 },
 "nbformat": 4,
 "nbformat_minor": 5
}
