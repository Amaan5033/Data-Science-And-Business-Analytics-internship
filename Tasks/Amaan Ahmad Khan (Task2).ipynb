{
 "cells": [
  {
   "cell_type": "markdown",
   "id": "absent-guyana",
   "metadata": {},
   "source": [
    "# Amaan Ahmad Khan (Task2) #GRIPJUNE"
   ]
  },
  {
   "cell_type": "markdown",
   "id": "judicial-satellite",
   "metadata": {},
   "source": [
    "Task Definition-- From the given ‘Iris’ dataset, predict the optimum number of clusters\n",
    "and represent it visually."
   ]
  },
  {
   "cell_type": "code",
   "execution_count": 1,
   "id": "private-absorption",
   "metadata": {},
   "outputs": [],
   "source": [
    "import pandas as pd \n",
    "import matplotlib.pyplot as plt\n",
    "import numpy\n",
    "%matplotlib inline"
   ]
  },
  {
   "cell_type": "code",
   "execution_count": 2,
   "id": "dated-thumb",
   "metadata": {},
   "outputs": [],
   "source": [
    "df=pd.read_csv(\"/home/zeeshan/Desktop/Data analysis/GRIP JUNE/Iris.csv\")"
   ]
  },
  {
   "cell_type": "code",
   "execution_count": 3,
   "id": "under-oakland",
   "metadata": {},
   "outputs": [
    {
     "data": {
      "text/html": [
       "<div>\n",
       "<style scoped>\n",
       "    .dataframe tbody tr th:only-of-type {\n",
       "        vertical-align: middle;\n",
       "    }\n",
       "\n",
       "    .dataframe tbody tr th {\n",
       "        vertical-align: top;\n",
       "    }\n",
       "\n",
       "    .dataframe thead th {\n",
       "        text-align: right;\n",
       "    }\n",
       "</style>\n",
       "<table border=\"1\" class=\"dataframe\">\n",
       "  <thead>\n",
       "    <tr style=\"text-align: right;\">\n",
       "      <th></th>\n",
       "      <th>Id</th>\n",
       "      <th>SepalLengthCm</th>\n",
       "      <th>SepalWidthCm</th>\n",
       "      <th>PetalLengthCm</th>\n",
       "      <th>PetalWidthCm</th>\n",
       "      <th>Species</th>\n",
       "    </tr>\n",
       "  </thead>\n",
       "  <tbody>\n",
       "    <tr>\n",
       "      <th>0</th>\n",
       "      <td>1</td>\n",
       "      <td>5.1</td>\n",
       "      <td>3.5</td>\n",
       "      <td>1.4</td>\n",
       "      <td>0.2</td>\n",
       "      <td>Iris-setosa</td>\n",
       "    </tr>\n",
       "    <tr>\n",
       "      <th>1</th>\n",
       "      <td>2</td>\n",
       "      <td>4.9</td>\n",
       "      <td>3.0</td>\n",
       "      <td>1.4</td>\n",
       "      <td>0.2</td>\n",
       "      <td>Iris-setosa</td>\n",
       "    </tr>\n",
       "    <tr>\n",
       "      <th>2</th>\n",
       "      <td>3</td>\n",
       "      <td>4.7</td>\n",
       "      <td>3.2</td>\n",
       "      <td>1.3</td>\n",
       "      <td>0.2</td>\n",
       "      <td>Iris-setosa</td>\n",
       "    </tr>\n",
       "    <tr>\n",
       "      <th>3</th>\n",
       "      <td>4</td>\n",
       "      <td>4.6</td>\n",
       "      <td>3.1</td>\n",
       "      <td>1.5</td>\n",
       "      <td>0.2</td>\n",
       "      <td>Iris-setosa</td>\n",
       "    </tr>\n",
       "    <tr>\n",
       "      <th>4</th>\n",
       "      <td>5</td>\n",
       "      <td>5.0</td>\n",
       "      <td>3.6</td>\n",
       "      <td>1.4</td>\n",
       "      <td>0.2</td>\n",
       "      <td>Iris-setosa</td>\n",
       "    </tr>\n",
       "  </tbody>\n",
       "</table>\n",
       "</div>"
      ],
      "text/plain": [
       "   Id  SepalLengthCm  SepalWidthCm  PetalLengthCm  PetalWidthCm      Species\n",
       "0   1            5.1           3.5            1.4           0.2  Iris-setosa\n",
       "1   2            4.9           3.0            1.4           0.2  Iris-setosa\n",
       "2   3            4.7           3.2            1.3           0.2  Iris-setosa\n",
       "3   4            4.6           3.1            1.5           0.2  Iris-setosa\n",
       "4   5            5.0           3.6            1.4           0.2  Iris-setosa"
      ]
     },
     "execution_count": 3,
     "metadata": {},
     "output_type": "execute_result"
    }
   ],
   "source": [
    "df.head()"
   ]
  },
  {
   "cell_type": "code",
   "execution_count": 4,
   "id": "incredible-nudist",
   "metadata": {},
   "outputs": [
    {
     "data": {
      "text/plain": [
       "(150, 6)"
      ]
     },
     "execution_count": 4,
     "metadata": {},
     "output_type": "execute_result"
    }
   ],
   "source": [
    "df.shape"
   ]
  },
  {
   "cell_type": "code",
   "execution_count": 5,
   "id": "wanted-commons",
   "metadata": {},
   "outputs": [
    {
     "data": {
      "text/plain": [
       "array(['Iris-setosa', 'Iris-versicolor', 'Iris-virginica'], dtype=object)"
      ]
     },
     "execution_count": 5,
     "metadata": {},
     "output_type": "execute_result"
    }
   ],
   "source": [
    "df.Species.unique()"
   ]
  },
  {
   "cell_type": "markdown",
   "id": "collected-cinema",
   "metadata": {},
   "source": [
    "# Before Applying for K means clustring We have to get the idea of how many optimum clusters are there and for that we will gonna use Elbow method"
   ]
  },
  {
   "cell_type": "code",
   "execution_count": 6,
   "id": "blind-ecuador",
   "metadata": {},
   "outputs": [],
   "source": [
    "from sklearn.cluster import KMeans"
   ]
  },
  {
   "cell_type": "markdown",
   "id": "opposed-manitoba",
   "metadata": {},
   "source": [
    "Lets use only numerical value and avoid the categorical Column Species"
   ]
  },
  {
   "cell_type": "code",
   "execution_count": 7,
   "id": "sharp-parallel",
   "metadata": {},
   "outputs": [],
   "source": [
    "# sample_df=df[[\"Id\",\"SepalLengthCm\",\"SepalWidthCm\",\"PetalLengthCm\",\"PetalWidthCm\"]]\n",
    "sample_df=df.iloc[:,[1,2,3,4]]"
   ]
  },
  {
   "cell_type": "code",
   "execution_count": 8,
   "id": "parliamentary-broadcasting",
   "metadata": {},
   "outputs": [
    {
     "data": {
      "text/html": [
       "<div>\n",
       "<style scoped>\n",
       "    .dataframe tbody tr th:only-of-type {\n",
       "        vertical-align: middle;\n",
       "    }\n",
       "\n",
       "    .dataframe tbody tr th {\n",
       "        vertical-align: top;\n",
       "    }\n",
       "\n",
       "    .dataframe thead th {\n",
       "        text-align: right;\n",
       "    }\n",
       "</style>\n",
       "<table border=\"1\" class=\"dataframe\">\n",
       "  <thead>\n",
       "    <tr style=\"text-align: right;\">\n",
       "      <th></th>\n",
       "      <th>SepalLengthCm</th>\n",
       "      <th>SepalWidthCm</th>\n",
       "      <th>PetalLengthCm</th>\n",
       "      <th>PetalWidthCm</th>\n",
       "    </tr>\n",
       "  </thead>\n",
       "  <tbody>\n",
       "    <tr>\n",
       "      <th>0</th>\n",
       "      <td>5.1</td>\n",
       "      <td>3.5</td>\n",
       "      <td>1.4</td>\n",
       "      <td>0.2</td>\n",
       "    </tr>\n",
       "    <tr>\n",
       "      <th>1</th>\n",
       "      <td>4.9</td>\n",
       "      <td>3.0</td>\n",
       "      <td>1.4</td>\n",
       "      <td>0.2</td>\n",
       "    </tr>\n",
       "    <tr>\n",
       "      <th>2</th>\n",
       "      <td>4.7</td>\n",
       "      <td>3.2</td>\n",
       "      <td>1.3</td>\n",
       "      <td>0.2</td>\n",
       "    </tr>\n",
       "    <tr>\n",
       "      <th>3</th>\n",
       "      <td>4.6</td>\n",
       "      <td>3.1</td>\n",
       "      <td>1.5</td>\n",
       "      <td>0.2</td>\n",
       "    </tr>\n",
       "    <tr>\n",
       "      <th>4</th>\n",
       "      <td>5.0</td>\n",
       "      <td>3.6</td>\n",
       "      <td>1.4</td>\n",
       "      <td>0.2</td>\n",
       "    </tr>\n",
       "  </tbody>\n",
       "</table>\n",
       "</div>"
      ],
      "text/plain": [
       "   SepalLengthCm  SepalWidthCm  PetalLengthCm  PetalWidthCm\n",
       "0            5.1           3.5            1.4           0.2\n",
       "1            4.9           3.0            1.4           0.2\n",
       "2            4.7           3.2            1.3           0.2\n",
       "3            4.6           3.1            1.5           0.2\n",
       "4            5.0           3.6            1.4           0.2"
      ]
     },
     "execution_count": 8,
     "metadata": {},
     "output_type": "execute_result"
    }
   ],
   "source": [
    "sample_df.head()"
   ]
  },
  {
   "cell_type": "markdown",
   "id": "negative-estimate",
   "metadata": {},
   "source": [
    "For elbow method to find the numbers of optimal Clusters we will gonna use Inertia Method"
   ]
  },
  {
   "cell_type": "code",
   "execution_count": 9,
   "id": "political-charter",
   "metadata": {},
   "outputs": [
    {
     "data": {
      "text/plain": [
       "array([[-0.90068117,  1.03205722, -1.3412724 , -1.31297673],\n",
       "       [-1.14301691, -0.1249576 , -1.3412724 , -1.31297673],\n",
       "       [-1.38535265,  0.33784833, -1.39813811, -1.31297673],\n",
       "       [-1.50652052,  0.10644536, -1.2844067 , -1.31297673],\n",
       "       [-1.02184904,  1.26346019, -1.3412724 , -1.31297673],\n",
       "       [-0.53717756,  1.95766909, -1.17067529, -1.05003079],\n",
       "       [-1.50652052,  0.80065426, -1.3412724 , -1.18150376],\n",
       "       [-1.02184904,  0.80065426, -1.2844067 , -1.31297673],\n",
       "       [-1.74885626, -0.35636057, -1.3412724 , -1.31297673],\n",
       "       [-1.14301691,  0.10644536, -1.2844067 , -1.4444497 ]])"
      ]
     },
     "execution_count": 9,
     "metadata": {},
     "output_type": "execute_result"
    }
   ],
   "source": [
    "# Let Scale our data for giving all the values the same importance, it will return us the array of scaled value\n",
    "from sklearn.preprocessing import StandardScaler\n",
    "X=StandardScaler().fit_transform(sample_df)\n",
    "X[:10]"
   ]
  },
  {
   "cell_type": "code",
   "execution_count": 10,
   "id": "racial-reservation",
   "metadata": {},
   "outputs": [
    {
     "data": {
      "text/plain": [
       "[600.0000000000003,\n",
       " 223.73200573676343,\n",
       " 140.96581663074699,\n",
       " 114.5511767079852,\n",
       " 91.19000166750217,\n",
       " 80.23060704506956,\n",
       " 72.11656232930599,\n",
       " 62.47478522757166,\n",
       " 54.27957840296175]"
      ]
     },
     "execution_count": 10,
     "metadata": {},
     "output_type": "execute_result"
    }
   ],
   "source": [
    "# Finding optimal number of clusters using Inertia Method\n",
    "# Inertia is the sum of squared distances of samples to their closest cluster centre.\n",
    "sum_square_distance=[]\n",
    "K=range(1,10)\n",
    "for k in K:\n",
    "    k_means=KMeans(n_clusters=k)\n",
    "    k_means.fit(X)\n",
    "    sum_square_distance.append(k_means.inertia_)\n",
    "sum_square_distance"
   ]
  },
  {
   "cell_type": "code",
   "execution_count": 11,
   "id": "italic-thanks",
   "metadata": {},
   "outputs": [
    {
     "data": {
      "image/png": "[encoded data removed]",
      "text/plain": [
       "<Figure size 432x288 with 1 Axes>"
      ]
     },
     "metadata": {
      "needs_background": "light"
     },
     "output_type": "display_data"
    }
   ],
   "source": [
    "# lets plot the elbow curve\n",
    "plt.plot(K,sum_square_distance,\"-bx\")\n",
    "plt.xlabel('k')\n",
    "plt.ylabel('sum_square_distance')\n",
    "plt.title(\"Elbow curve using Inertia\")\n",
    "plt.show()"
   ]
  },
  {
   "cell_type": "markdown",
   "id": "czech-plane",
   "metadata": {},
   "source": [
    "# As we can see here the graph after 3 is kinda straight so from that we can get our Elbow point which is 3."
   ]
  },
  {
   "cell_type": "markdown",
   "id": "unnecessary-clone",
   "metadata": {},
   "source": [
    "We find the number of optimal Clusters that is 3"
   ]
  },
  {
   "cell_type": "code",
   "execution_count": 19,
   "id": "historic-drilling",
   "metadata": {},
   "outputs": [
    {
     "data": {
      "text/plain": [
       "array([0, 0, 0, 0, 0, 0, 0, 0, 0, 0, 0, 0, 0, 0, 0, 0, 0, 0, 0, 0, 0, 0,\n",
       "       0, 0, 0, 0, 0, 0, 0, 0, 0, 0, 0, 0, 0, 0, 0, 0, 0, 0, 0, 0, 0, 0,\n",
       "       0, 0, 0, 0, 0, 0, 1, 1, 1, 2, 2, 2, 1, 2, 2, 2, 2, 2, 2, 2, 2, 1,\n",
       "       2, 2, 2, 2, 1, 2, 2, 2, 2, 1, 1, 1, 2, 2, 2, 2, 2, 2, 2, 1, 1, 2,\n",
       "       2, 2, 2, 2, 2, 2, 2, 2, 2, 2, 2, 2, 1, 2, 1, 1, 1, 1, 2, 1, 1, 1,\n",
       "       1, 1, 1, 2, 2, 1, 1, 1, 1, 2, 1, 2, 1, 2, 1, 1, 2, 1, 1, 1, 1, 1,\n",
       "       1, 2, 2, 1, 1, 1, 2, 1, 1, 1, 2, 1, 1, 1, 2, 1, 1, 2], dtype=int32)"
      ]
     },
     "execution_count": 19,
     "metadata": {},
     "output_type": "execute_result"
    }
   ],
   "source": [
    "# Now drawing the scatter plot\n",
    "kmean=KMeans(n_clusters=3)\n",
    "prediction=kmean.fit_predict(X)\n",
    "prediction"
   ]
  },
  {
   "cell_type": "code",
   "execution_count": 42,
   "id": "framed-inquiry",
   "metadata": {},
   "outputs": [
    {
     "data": {
      "image/png": "[encoded data removed]",
      "text/plain": [
       "<Figure size 432x288 with 1 Axes>"
      ]
     },
     "metadata": {
      "needs_background": "light"
     },
     "output_type": "display_data"
    }
   ],
   "source": [
    "# Lets draw the scatterd plot with our labeled data to visualize the clusters\n",
    "# and also draw the centroids\n",
    "filtered_label1=X[prediction==0]\n",
    "filtered_label2=X[prediction==1]\n",
    "filtered_label3=X[prediction==2]\n",
    "plt.scatter(filtered_label1[:,0],filtered_label1[:,1],color='skyblue',label=\"FirstCluster\")\n",
    "plt.scatter(filtered_label2[:,0],filtered_label2[:,1],color='lightgreen',label=\"SecondCluster\")\n",
    "plt.scatter(filtered_label3[:,0],filtered_label3[:,1],color='orange',label=\"ThirdCluster\")\n",
    "plt.scatter(kmean.cluster_centers_[:,0],kmean.cluster_centers_[:,1],color=\"black\",label=\"Centroids\")\n",
    "plt.legend()\n",
    "plt.show()"
   ]
  },
  {
   "cell_type": "markdown",
   "id": "pacific-smell",
   "metadata": {},
   "source": [
    "Here we can visualize the clusters along with their Centroids"
   ]
  },
  {
   "cell_type": "markdown",
   "id": "welsh-wednesday",
   "metadata": {},
   "source": [
    "# Task 2 Successfully completed :)"
   ]
  },
  {
   "cell_type": "code",
   "execution_count": null,
   "id": "charming-preservation",
   "metadata": {},
   "outputs": [],
   "source": []
  }
 ],
 "metadata": {
  "kernelspec": {
   "display_name": "Python 3",
   "language": "python",
   "name": "python3"
  },
  "language_info": {
   "codemirror_mode": {
    "name": "ipython",
    "version": 3
   },
   "file_extension": ".py",
   "mimetype": "text/x-python",
   "name": "python",
   "nbconvert_exporter": "python",
   "pygments_lexer": "ipython3",
   "version": "3.6.9"
  }
 },
 "nbformat": 4,
 "nbformat_minor": 5
}
